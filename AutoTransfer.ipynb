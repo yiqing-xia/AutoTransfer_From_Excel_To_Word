{
 "cells": [
  {
   "cell_type": "code",
   "execution_count": 9,
   "id": "c1318d52",
   "metadata": {},
   "outputs": [],
   "source": [
    "from openpyxl import load_workbook\n",
    "from docx import Document\n",
    "from docx.shared import Pt\n",
    "from docx.oxml import OxmlElement\n",
    "\n",
    "def set_run_font(run, size, italic):\n",
    "    font = run.font\n",
    "    font.size = Pt(size)\n",
    "    font.italic = italic\n",
    "\n",
    "# Load Excel workbook\n",
    "excel_file_path = 'change to the path of your excel file'\n",
    "wb = load_workbook(excel_file_path)\n",
    "sheet = wb.active\n",
    "\n",
    "# Open the Word document\n",
    "existing_doc_path = 'change to the path of the template word file'\n",
    "doc = Document(existing_doc_path)\n",
    "\n",
    "# Iterate through Excel data and replace placeholders in the Word document\n",
    "for i, row in enumerate(sheet.iter_rows(min_row=2, values_only=True), start=1):\n",
    "    title, presenting_author, co_authors, affiliation, co_author_affiliations, abstract = row\n",
    "\n",
    "    for para in doc.paragraphs:\n",
    "        for run in para.runs:\n",
    "            if '<title here>' in run.text:\n",
    "                run.text = run.text.replace('<title here>', title)\n",
    "            if '<authors here>' in run.text:\n",
    "                run.text = run.text.replace('<authors here>', presenting_author + \", \" + co_authors)\n",
    "            if '<affiliations here>' in run.text:\n",
    "                affiliation_text = affiliation if affiliation else \"\"\n",
    "                co_author_affiliations_text = co_author_affiliations if co_author_affiliations else \"\"\n",
    "                run.text = run.text.replace('<affiliations here>', affiliation_text + \", \" + co_author_affiliations_text)\n",
    "            if '<abstract here>' in run.text:\n",
    "                run.text = run.text.replace('<abstract here>', abstract)\n",
    "\n",
    "# Save the modified Word document with iteration number as name\n",
    "output_filename = 'change to the path of the template word file'\n",
    "doc.save(output_filename)\n"
   ]
  }
 ],
 "metadata": {
  "kernelspec": {
   "display_name": "Python 3 (ipykernel)",
   "language": "python",
   "name": "python3"
  },
  "language_info": {
   "codemirror_mode": {
    "name": "ipython",
    "version": 3
   },
   "file_extension": ".py",
   "mimetype": "text/x-python",
   "name": "python",
   "nbconvert_exporter": "python",
   "pygments_lexer": "ipython3",
   "version": "3.9.13"
  }
 },
 "nbformat": 4,
 "nbformat_minor": 5
}
